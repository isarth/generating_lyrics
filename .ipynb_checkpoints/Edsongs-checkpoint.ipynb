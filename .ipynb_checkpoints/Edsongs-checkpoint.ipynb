{
 "cells": [
  {
   "cell_type": "code",
   "execution_count": 31,
   "metadata": {
    "collapsed": true
   },
   "outputs": [],
   "source": [
    "import numpy as np\n",
    "import pandas as pd\n",
    "import random"
   ]
  },
  {
   "cell_type": "code",
   "execution_count": 26,
   "metadata": {
    "collapsed": true
   },
   "outputs": [],
   "source": [
    "import keras\n",
    "from keras.models import Sequential\n",
    "from keras.layers import Activation,LSTM,Dense\n",
    "from keras.optimizers import Adam"
   ]
  },
  {
   "cell_type": "code",
   "execution_count": 6,
   "metadata": {
    "collapsed": true
   },
   "outputs": [],
   "source": [
    "ds=pd.read_csv('songs.csv')['lyrics']\n",
    "data=np.array(ds)"
   ]
  },
  {
   "cell_type": "code",
   "execution_count": 11,
   "metadata": {
    "collapsed": false
   },
   "outputs": [],
   "source": [
    "txt=''\n",
    "for ix in range(len(data)):\n",
    "    txt+=data[ix]"
   ]
  },
  {
   "cell_type": "code",
   "execution_count": 15,
   "metadata": {
    "collapsed": true
   },
   "outputs": [],
   "source": [
    "vocab=list(set(txt))\n",
    "char_ix={c:i for i,c in enumerate(vocab)}\n",
    "ix_char={i:c for i,c in enumerate(vocab)}"
   ]
  },
  {
   "cell_type": "code",
   "execution_count": 16,
   "metadata": {
    "collapsed": false
   },
   "outputs": [],
   "source": [
    "maxlen=40\n",
    "vocab_size=len(vocab)"
   ]
  },
  {
   "cell_type": "code",
   "execution_count": 24,
   "metadata": {
    "collapsed": true
   },
   "outputs": [],
   "source": [
    "sentences=[]\n",
    "next_char=[]\n",
    "for i in range(len(txt)-maxlen-1):\n",
    "    sentences.append(txt[i:i+maxlen])\n",
    "    next_char.append(txt[i+maxlen])    "
   ]
  },
  {
   "cell_type": "code",
   "execution_count": 25,
   "metadata": {
    "collapsed": true
   },
   "outputs": [],
   "source": [
    "X=np.zeros((len(sentences),maxlen,vocab_size))\n",
    "y=np.zeros((len(sentences),vocab_size))\n",
    "for ix in range(len(sentences)):\n",
    "    y[ix,char_ix[next_char[ix]]]=1\n",
    "    for iy in range(maxlen):\n",
    "        X[ix,iy,char_ix[sentences[ix][iy]]]=1        "
   ]
  },
  {
   "cell_type": "code",
   "execution_count": 27,
   "metadata": {
    "collapsed": false
   },
   "outputs": [
    {
     "name": "stdout",
     "output_type": "stream",
     "text": [
      "_________________________________________________________________\n",
      "Layer (type)                 Output Shape              Param #   \n",
      "=================================================================\n",
      "lstm_1 (LSTM)                (None, 128)               112128    \n",
      "_________________________________________________________________\n",
      "dense_1 (Dense)              (None, 90)                11610     \n",
      "_________________________________________________________________\n",
      "activation_1 (Activation)    (None, 90)                0         \n",
      "=================================================================\n",
      "Total params: 123,738\n",
      "Trainable params: 123,738\n",
      "Non-trainable params: 0\n",
      "_________________________________________________________________\n"
     ]
    }
   ],
   "source": [
    "model=Sequential()\n",
    "model.add(LSTM(128,input_shape=(maxlen,vocab_size)))\n",
    "model.add(Dense(vocab_size))\n",
    "model.add(Activation('softmax'))\n",
    "model.summary()\n",
    "model.compile(optimizer=Adam(lr=0.01),loss='categorical_crossentropy')"
   ]
  },
  {
   "cell_type": "code",
   "execution_count": 29,
   "metadata": {
    "collapsed": false
   },
   "outputs": [
    {
     "name": "stdout",
     "output_type": "stream",
     "text": [
      "Epoch 1/5\n",
      "93069/93069 [==============================] - 250s - loss: 1.2488   \n",
      "Epoch 2/5\n",
      "93069/93069 [==============================] - 249s - loss: 1.2123   \n",
      "Epoch 3/5\n",
      "93069/93069 [==============================] - 247s - loss: 1.1819   \n",
      "Epoch 4/5\n",
      "93069/93069 [==============================] - 247s - loss: 1.1628   \n",
      "Epoch 5/5\n",
      "93069/93069 [==============================] - 249s - loss: 1.1396   \n"
     ]
    },
    {
     "data": {
      "text/plain": [
       "<keras.callbacks.History at 0x1044a6f10>"
      ]
     },
     "execution_count": 29,
     "metadata": {},
     "output_type": "execute_result"
    }
   ],
   "source": [
    "model.fit(X,y,epochs=5,batch_size=128)"
   ]
  },
  {
   "cell_type": "code",
   "execution_count": 36,
   "metadata": {
    "collapsed": false
   },
   "outputs": [],
   "source": [
    "generated=''\n",
    "start_index=random.randint(0,len(txt)-maxlen-1)\n",
    "sent=txt[start_index:start_index+maxlen]\n",
    "generated+=sent\n",
    "for i in range(1900):\n",
    "    x_sample=generated[i:i+maxlen]\n",
    "    x=np.zeros((1,maxlen,vocab_size))\n",
    "    for j in range(maxlen):\n",
    "        x[0,j,char_ix[x_sample[j]]]=1\n",
    "    probs=model.predict(x)\n",
    "    probs=np.reshape(probs,probs.shape[1])\n",
    "    ix=np.random.choice(range(vocab_size),p=probs.ravel())\n",
    "    generated+=ix_char[ix]"
   ]
  },
  {
   "cell_type": "code",
   "execution_count": 37,
   "metadata": {
    "collapsed": false
   },
   "outputs": [
    {
     "name": "stdout",
     "output_type": "stream",
     "text": [
      " go all you can eat\n",
      "Fill up your bag and should crooving of my way oh the way\n",
      "And then she rippone of more when you alling throat\n",
      "I, I've cried acreadppered for the Ake\n",
      "And sheat it right\n",
      "A las we aliva\n",
      "\n",
      "But you’re make the way hist\n",
      "Every some for the wordan your hard me they\n",
      "Thing hours apan\n",
      "Wapend and get on the way way this lastety\n",
      "gries tooked can didn't parked out us\n",
      "And if you need to baby Jon to in\n",
      "look the morniset now, then it drown on to go,\n",
      "'Cause alones the worst through paice jean you\n",
      "\n",
      "\n",
      "Wis fire with my drink the Ayewhm falling to be frozes\n",
      "Hear ye\n",
      "And they ston in\n",
      "All the only onrite the word well Gat play winring and getten\n",
      "Just you upon antences a little on hightty\n",
      "Whise But the secrage\n",
      "Fight from the same\n",
      "Jus though watcreac don't they wenth little blead in the only edge\n",
      "Cause we should life with that your love\n",
      "I firl inseeks I’re bloolic?\n",
      "Place someporices aly in my prothes, stop\n",
      "Me tapegatay without e'el they ow I know\n",
      "\n",
      "Oh my moon if we’ll be when will go\n",
      "\n",
      "\n",
      "Weens know for drawand wantatell now\n",
      "And that's of Bloked up through you\n",
      "And mush to the h\n",
      "Daind to be our fingers you wantit your heart\n",
      "That you hold your mind\n",
      "\n",
      "So of you're hurter\n",
      "Just leavout it,\n",
      "But I take it bazze or away\n",
      "Well go all my brothers?\n",
      "Wait in my das your dingens\n",
      "Get yaring that ket sight.\n",
      "\n",
      "‘Cause I just want of your love\n",
      "Down by an angt with a girl, '-ul the toumbodE-a\n",
      "Ma\n",
      "Yeah-ya be say, oh\n",
      "With my pillina Criquste\",\n",
      "I don't reppied\n",
      "You look you to I know\n",
      "I under that Sittle\n",
      "But something brand now\n",
      "\n",
      "\n",
      "\n",
      "\n",
      "\n",
      "days know,\n",
      "The woradesl the phothing break\n",
      "Waptire of the casher\n",
      "So in love..\n",
      "Ering to change loved\n",
      "\n",
      "Oh we wanna know reand the scene\n",
      "All of your bove I drink your feet of the night\n",
      "\n",
      "So let this seep sivily in my fame,\n",
      "My life from your hair\n",
      "For men, room right with a friend\n",
      "Said I follow my tind\n",
      "Move make it hard-ma\n",
      "lades but you'll sing all for me\n",
      "And I’re hurting to give ditth ho don't hundin' tonight\n",
      "\n",
      "I li\n"
     ]
    }
   ],
   "source": [
    "print generated"
   ]
  },
  {
   "cell_type": "code",
   "execution_count": null,
   "metadata": {
    "collapsed": true
   },
   "outputs": [],
   "source": []
  },
  {
   "cell_type": "code",
   "execution_count": 35,
   "metadata": {
    "collapsed": false
   },
   "outputs": [
    {
     "name": "stdout",
     "output_type": "stream",
     "text": [
      "tongue\n",
      "Wish that I had known what to do surreat this both\n",
      "You all the upline,\n",
      "-reams got with thisigg lize\n",
      "A love in my alrodum\n",
      "And dret peas in starls dedseat just to break home\n",
      "or in times a breathed\n",
      "I know, Jall in heart you’re as ones, in vivinc\n",
      "\n",
      "You can can rhen the sames\n",
      "So let this mist the fring everything cap with blater\n",
      "When fexiliving herechers in soinging out\n",
      "'Cause you can know again\n",
      "Before, but it wills deck tonight,\n",
      "With my inally play\n",
      "Just can wis sibuing just out 2e pernegm on the day\n",
      "Your love\n",
      "So give diends souls\n",
      "I be bady hopl fire, beact hard, love\n",
      "And they fill to sixtle on all the phons\n",
      "Holding go over beddreath my clothearzezou\n",
      "I hurt your evening\n",
      "Mile to out weiss if wLs dersmell\n",
      "When you’re kigute in sinking that up\n",
      "They see\n",
      "I stillon't will do her the ways\n",
      "Myself\n",
      "And now long you\n",
      "\n",
      "My drivar\n",
      "And peop gramsed,\n",
      "Sive away fichly \n",
      "But you just no hop miles\n",
      "Sat beil it on a raing knows on the wanderibe and happel, love with a fay\n",
      "Come on my fingersters from the claset\n",
      "\n",
      "I wond to all the change on all rilaning\n",
      "Wifr in alou\n",
      "\n",
      "We take it up\n",
      "For a love into the beat borrigros time hold my hece\n",
      "Sho my friends love me,tings\n",
      "In my friends\n",
      "Oh baby I missy\n",
      "Just until you all fing him talkn\n",
      "All nowN, don’t where it remi\n",
      "Evering ligher\n",
      "So me bidil for me tiapting,\n",
      "I conqueel the factte\n",
      "But she take waiter chelleets should bleeving apeltell\n",
      "And now,\n",
      "It long, knew burn in a pipne see thing to be crittess\n",
      "Thoue fess from\n",
      "Lead never clas tame\n",
      "Over just so chings I things\n",
      "Wanca wish you about my own\n",
      "I got you were like the only , in rhime\n",
      "Or may it ofe will\n",
      "And till to find caused\n",
      "Holding the worver cry\n",
      "I we're sat aloug\n",
      "Ah-la-la-la-la\n",
      "I make it rain\n",
      "Make it falling is\n",
      "When th’re a pichy fry-la\n",
      "And I'd  heres holding hold to fing my tear\n",
      "Than life to in love with a brallody loving high\n",
      "Just hide it offoxe\n",
      "Saiding my rings,?\n",
      "\n",
      "Girl that maybe changel in my heart\n",
      "But my kind to around, both (fire m\n"
     ]
    }
   ],
   "source": [
    "print generated"
   ]
  },
  {
   "cell_type": "code",
   "execution_count": null,
   "metadata": {
    "collapsed": true
   },
   "outputs": [],
   "source": []
  },
  {
   "cell_type": "code",
   "execution_count": 33,
   "metadata": {
    "collapsed": false
   },
   "outputs": [
    {
     "name": "stdout",
     "output_type": "stream",
     "text": [
      "dn't have f*cked with your mind\n",
      "And your love\n",
      "\n",
      "\n",
      "\n",
      "\n",
      "Town now, anothel and souls from the thun\n",
      "tell you whone\n",
      "No, it loved you\n",
      "\n",
      "So love you kiss me, I didn’t wanna know and my part's bord\n",
      "I sat something brand nit car it to in love with your body\n",
      "I love you, My ye, forlve could trape time\n",
      "Calling something the way within\n",
      "Make me inside our your mouth\n",
      "You can loved\n",
      "Came your waying with you loo\n",
      "day getting home\n",
      "Home babovs take ainat that everybodigafe me too wishou\n",
      "\n",
      "\n",
      "But told me that in tonight.\n",
      "And I hove you bothough so mian, black in the tputh\n",
      "Resming to pervain\n",
      "\n",
      "And wanna know when you, shid my drce maded alroak\n",
      "Mayching than love high\n",
      "When the will weeksing in out of my arms\n",
      "Signt my thun lovign but been set Mary my all to gems\n",
      "And I guess Makerit into this be lovin\n",
      "\n",
      "\n",
      "But I waithered that you know wanin light\n",
      "It a fire anoplit proknticr\n",
      "Down baby lox\n",
      "Are the changer fill look nim\n",
      "\n",
      "It was go\n",
      "All by the collaget, stould, while rehorete\n",
      "Drinken I wanna know have day to the soop a find give and rive you a fill tall we’ll make it wanna life me\n",
      "\n",
      "\n",
      "\n",
      "\n",
      "\n",
      "I'se live you soon like me of\n",
      "Aft to semelle’l your love\n",
      "\n",
      "And they wish all by mysmer cashire\n",
      "And new my way wife and drink burten\n",
      "She timeve we were I known hide of it tit in my myme fasters\n",
      "In to when you love with as ople fall comine\n",
      "But getting thrond\n",
      "One was I’ll loved my love, lave again\n",
      "Butishore of my be wrythings  allat that have find\n",
      "So your loved\n",
      "\n",
      "Give it rain\n",
      "Shean it back\n",
      "But it wanna did I Dlougl quick\n",
      "Eanne whollass\n",
      "jeay this faithes in out off withouM\n",
      "Marcet of the and tell yax picthers I'll never broke Jack\n",
      "And just loved my have though\n",
      "Don’t you just’s thouga\n",
      "Tear the love, so sagright\n",
      "\n",
      "You could stmen breaks over her)\n",
      "I fadding to say crovor, gettle of all to ever come for me\n",
      "Inside time wanna know about my making to heres\n",
      "But it I things were and my arms\n",
      "Kies, there whon my broken to die\n",
      "We peotier Over fallowhering the rordy buth my \n"
     ]
    }
   ],
   "source": [
    "print generated"
   ]
  },
  {
   "cell_type": "code",
   "execution_count": null,
   "metadata": {
    "collapsed": true
   },
   "outputs": [],
   "source": []
  },
  {
   "cell_type": "code",
   "execution_count": null,
   "metadata": {
    "collapsed": true
   },
   "outputs": [],
   "source": []
  },
  {
   "cell_type": "code",
   "execution_count": null,
   "metadata": {
    "collapsed": true
   },
   "outputs": [],
   "source": []
  },
  {
   "cell_type": "code",
   "execution_count": null,
   "metadata": {
    "collapsed": true
   },
   "outputs": [],
   "source": []
  },
  {
   "cell_type": "code",
   "execution_count": null,
   "metadata": {
    "collapsed": true
   },
   "outputs": [],
   "source": []
  },
  {
   "cell_type": "code",
   "execution_count": null,
   "metadata": {
    "collapsed": true
   },
   "outputs": [],
   "source": []
  },
  {
   "cell_type": "code",
   "execution_count": null,
   "metadata": {
    "collapsed": true
   },
   "outputs": [],
   "source": []
  },
  {
   "cell_type": "code",
   "execution_count": null,
   "metadata": {
    "collapsed": true
   },
   "outputs": [],
   "source": []
  },
  {
   "cell_type": "code",
   "execution_count": null,
   "metadata": {
    "collapsed": true
   },
   "outputs": [],
   "source": []
  },
  {
   "cell_type": "code",
   "execution_count": null,
   "metadata": {
    "collapsed": true
   },
   "outputs": [],
   "source": []
  },
  {
   "cell_type": "code",
   "execution_count": null,
   "metadata": {
    "collapsed": true
   },
   "outputs": [],
   "source": []
  },
  {
   "cell_type": "code",
   "execution_count": null,
   "metadata": {
    "collapsed": true
   },
   "outputs": [],
   "source": []
  }
 ],
 "metadata": {
  "anaconda-cloud": {},
  "kernelspec": {
   "display_name": "Python [default]",
   "language": "python",
   "name": "python2"
  },
  "language_info": {
   "codemirror_mode": {
    "name": "ipython",
    "version": 2
   },
   "file_extension": ".py",
   "mimetype": "text/x-python",
   "name": "python",
   "nbconvert_exporter": "python",
   "pygments_lexer": "ipython2",
   "version": "2.7.12"
  }
 },
 "nbformat": 4,
 "nbformat_minor": 2
}
